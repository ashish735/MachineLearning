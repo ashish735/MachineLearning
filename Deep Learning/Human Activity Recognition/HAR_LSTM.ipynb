{
 "cells": [
  {
   "cell_type": "markdown",
   "metadata": {},
   "source": [
    "## Human Activity Recognition"
   ]
  },
  {
   "cell_type": "code",
   "execution_count": 0,
   "metadata": {
    "colab": {},
    "colab_type": "code",
    "id": "n6qttqE8nC6h"
   },
   "outputs": [],
   "source": [
    "import pandas as pd\n",
    "import numpy as np"
   ]
  },
  {
   "cell_type": "code",
   "execution_count": 0,
   "metadata": {
    "colab": {},
    "colab_type": "code",
    "id": "7i2mHGbjnC6p"
   },
   "outputs": [],
   "source": [
    "# Activities are the class labels\n",
    "# It is a 6 class classification\n",
    "ACTIVITIES = {\n",
    "    0: 'WALKING',\n",
    "    1: 'WALKING_UPSTAIRS',\n",
    "    2: 'WALKING_DOWNSTAIRS',\n",
    "    3: 'SITTING',\n",
    "    4: 'STANDING',\n",
    "    5: 'LAYING',\n",
    "}\n",
    "\n",
    "# Utility function to print the confusion matrix\n",
    "def confusion_matrix(Y_true, Y_pred):\n",
    "    Y_true = pd.Series([ACTIVITIES[y] for y in np.argmax(Y_true, axis=1)])\n",
    "    Y_pred = pd.Series([ACTIVITIES[y] for y in np.argmax(Y_pred, axis=1)])\n",
    "\n",
    "    return pd.crosstab(Y_true, Y_pred, rownames=['True'], colnames=['Pred'])"
   ]
  },
  {
   "cell_type": "markdown",
   "metadata": {
    "colab_type": "text",
    "id": "01Ra3CPTnC6x"
   },
   "source": [
    "### Data"
   ]
  },
  {
   "cell_type": "code",
   "execution_count": 0,
   "metadata": {
    "colab": {},
    "colab_type": "code",
    "id": "tjXqgGa6nC61"
   },
   "outputs": [],
   "source": [
    "# Data directory\n",
    "DATADIR = '/content/gdrive/My Drive/Colab Notebooks/UCI_HAR_Dataset'"
   ]
  },
  {
   "cell_type": "code",
   "execution_count": 0,
   "metadata": {
    "colab": {},
    "colab_type": "code",
    "id": "xNsy9QQEnC67"
   },
   "outputs": [],
   "source": [
    "# Raw data signals\n",
    "# Signals are from Accelerometer and Gyroscope\n",
    "# The signals are in x,y,z directions\n",
    "# Sensor signals are filtered to have only body acceleration\n",
    "# excluding the acceleration due to gravity\n",
    "# Triaxial acceleration from the accelerometer is total acceleration\n",
    "SIGNALS = [\n",
    "    \"body_acc_x\",\n",
    "    \"body_acc_y\",\n",
    "    \"body_acc_z\",\n",
    "    \"body_gyro_x\",\n",
    "    \"body_gyro_y\",\n",
    "    \"body_gyro_z\",\n",
    "    \"total_acc_x\",\n",
    "    \"total_acc_y\",\n",
    "    \"total_acc_z\"\n",
    "]"
   ]
  },
  {
   "cell_type": "code",
   "execution_count": 0,
   "metadata": {
    "colab": {},
    "colab_type": "code",
    "id": "W_KYfxHKnC7C"
   },
   "outputs": [],
   "source": [
    "# Utility function to read the data from csv file\n",
    "def _read_csv(filename):\n",
    "    return pd.read_csv(filename, delim_whitespace=True, header=None)\n",
    "\n",
    "# Utility function to load the load\n",
    "def load_signals(subset):\n",
    "    signals_data = []\n",
    "\n",
    "    for signal in SIGNALS:\n",
    "        filename = f'/content/gdrive/My Drive/Colab Notebooks/UCI_HAR_Dataset/{subset}/Inertial Signals/{signal}_{subset}.txt'\n",
    "        signals_data.append(\n",
    "            _read_csv(filename).as_matrix()\n",
    "        ) \n",
    "\n",
    "    # Transpose is used to change the dimensionality of the output,\n",
    "    # aggregating the signals by combination of sample/timestep.\n",
    "    # Resultant shape is (7352 train/2947 test samples, 128 timesteps, 9 signals)\n",
    "    return np.transpose(signals_data, (1, 2, 0))"
   ]
  },
  {
   "cell_type": "code",
   "execution_count": 0,
   "metadata": {
    "colab": {},
    "colab_type": "code",
    "id": "iih8f8NqnC7J"
   },
   "outputs": [],
   "source": [
    "\n",
    "def load_y(subset):\n",
    "    \"\"\"\n",
    "    The objective that we are trying to predict is a integer, from 1 to 6,\n",
    "    that represents a human activity. We return a binary representation of \n",
    "    every sample objective as a 6 bits vector using One Hot Encoding\n",
    "    (https://pandas.pydata.org/pandas-docs/stable/generated/pandas.get_dummies.html)\n",
    "    \"\"\"\n",
    "    filename = f'/content/gdrive/My Drive/Colab Notebooks/UCI_HAR_Dataset/{subset}/y_{subset}.txt'\n",
    "    y = _read_csv(filename)[0]\n",
    "\n",
    "    return pd.get_dummies(y).as_matrix()"
   ]
  },
  {
   "cell_type": "code",
   "execution_count": 0,
   "metadata": {
    "colab": {},
    "colab_type": "code",
    "id": "iJrDyw_vnC7R"
   },
   "outputs": [],
   "source": [
    "def load_data():\n",
    "    \"\"\"\n",
    "    Obtain the dataset from multiple files.\n",
    "    Returns: X_train, X_test, y_train, y_test\n",
    "    \"\"\"\n",
    "    X_train, X_test = load_signals('train'), load_signals('test')\n",
    "    y_train, y_test = load_y('train'), load_y('test')\n",
    "\n",
    "    return X_train, X_test, y_train, y_test"
   ]
  },
  {
   "cell_type": "code",
   "execution_count": 0,
   "metadata": {
    "colab": {},
    "colab_type": "code",
    "id": "YkKbBgoKnC7Y"
   },
   "outputs": [],
   "source": [
    "# Importing tensorflow\n",
    "np.random.seed(42)\n",
    "import tensorflow as tf\n",
    "tf.set_random_seed(42)"
   ]
  },
  {
   "cell_type": "code",
   "execution_count": 0,
   "metadata": {
    "colab": {},
    "colab_type": "code",
    "id": "nRs_rrQ_nC7s"
   },
   "outputs": [],
   "source": [
    "# Configuring a session\n",
    "session_conf = tf.ConfigProto(\n",
    "    intra_op_parallelism_threads=1,\n",
    "    inter_op_parallelism_threads=1\n",
    ")"
   ]
  },
  {
   "cell_type": "code",
   "execution_count": 11,
   "metadata": {
    "colab": {
     "base_uri": "https://localhost:8080/",
     "height": 36
    },
    "colab_type": "code",
    "id": "YW6mFIDpnC72",
    "outputId": "6d165521-1df9-4228-d638-5a176890d532"
   },
   "outputs": [
    {
     "name": "stderr",
     "output_type": "stream",
     "text": [
      "Using TensorFlow backend.\n"
     ]
    }
   ],
   "source": [
    "# Import Keras\n",
    "from keras import backend as K\n",
    "sess = tf.Session(graph=tf.get_default_graph(), config=session_conf)\n",
    "K.set_session(sess)"
   ]
  },
  {
   "cell_type": "code",
   "execution_count": 0,
   "metadata": {
    "colab": {},
    "colab_type": "code",
    "id": "cwltVUi9nC79"
   },
   "outputs": [],
   "source": [
    "# Importing libraries\n",
    "from keras.models import Sequential\n",
    "from keras.layers import LSTM\n",
    "from keras.layers.core import Dense, Dropout"
   ]
  },
  {
   "cell_type": "code",
   "execution_count": 0,
   "metadata": {
    "colab": {},
    "colab_type": "code",
    "id": "rlO07BTJnC8C"
   },
   "outputs": [],
   "source": [
    "# Initializing parameters\n",
    "epochs = 30\n",
    "batch_size = 16\n",
    "n_hidden = 32"
   ]
  },
  {
   "cell_type": "code",
   "execution_count": 0,
   "metadata": {
    "colab": {},
    "colab_type": "code",
    "id": "xhebXmd6nC8J"
   },
   "outputs": [],
   "source": [
    "# Utility function to count the number of classes\n",
    "def _count_classes(y):\n",
    "    return len(set([tuple(category) for category in y]))"
   ]
  },
  {
   "cell_type": "code",
   "execution_count": 15,
   "metadata": {
    "colab": {
     "base_uri": "https://localhost:8080/",
     "height": 112
    },
    "colab_type": "code",
    "id": "FaCveZg2nC8O",
    "outputId": "ed4092ff-8915-4173-82a4-1331f6a6af91"
   },
   "outputs": [
    {
     "name": "stderr",
     "output_type": "stream",
     "text": [
      "/usr/local/lib/python3.6/dist-packages/ipykernel_launcher.py:11: FutureWarning: Method .as_matrix will be removed in a future version. Use .values instead.\n",
      "  # This is added back by InteractiveShellApp.init_path()\n",
      "/usr/local/lib/python3.6/dist-packages/ipykernel_launcher.py:12: FutureWarning: Method .as_matrix will be removed in a future version. Use .values instead.\n",
      "  if sys.path[0] == '':\n"
     ]
    }
   ],
   "source": [
    "# Loading the train and test data\n",
    "X_train, X_test, Y_train, Y_test = load_data()"
   ]
  },
  {
   "cell_type": "code",
   "execution_count": 16,
   "metadata": {
    "colab": {
     "base_uri": "https://localhost:8080/",
     "height": 73
    },
    "colab_type": "code",
    "id": "u90rsPzUnC8X",
    "outputId": "b47f5f79-503b-45a3-c21d-0be85545e825"
   },
   "outputs": [
    {
     "name": "stdout",
     "output_type": "stream",
     "text": [
      "128\n",
      "9\n",
      "7352\n"
     ]
    }
   ],
   "source": [
    "timesteps = len(X_train[0])\n",
    "input_dim = len(X_train[0][0])\n",
    "n_classes = _count_classes(Y_train)\n",
    "\n",
    "print(timesteps)\n",
    "print(input_dim)\n",
    "print(len(X_train))"
   ]
  },
  {
   "cell_type": "markdown",
   "metadata": {
    "colab_type": "text",
    "id": "Y0SdksHfnC8e"
   },
   "source": [
    "- Defining the Architecture of LSTM"
   ]
  },
  {
   "cell_type": "code",
   "execution_count": 49,
   "metadata": {
    "colab": {
     "base_uri": "https://localhost:8080/",
     "height": 335
    },
    "colab_type": "code",
    "id": "OVh47nvynC8g",
    "outputId": "1eac9ec1-854c-4c8c-f015-5350c62e2d74"
   },
   "outputs": [
    {
     "name": "stdout",
     "output_type": "stream",
     "text": [
      "_________________________________________________________________\n",
      "Layer (type)                 Output Shape              Param #   \n",
      "=================================================================\n",
      "lstm_29 (LSTM)               (None, 128, 50)           12000     \n",
      "_________________________________________________________________\n",
      "dropout_23 (Dropout)         (None, 128, 50)           0         \n",
      "_________________________________________________________________\n",
      "lstm_30 (LSTM)               (None, 50)                20200     \n",
      "_________________________________________________________________\n",
      "dense_17 (Dense)             (None, 50)                2550      \n",
      "_________________________________________________________________\n",
      "dense_18 (Dense)             (None, 6)                 306       \n",
      "=================================================================\n",
      "Total params: 35,056\n",
      "Trainable params: 35,056\n",
      "Non-trainable params: 0\n",
      "_________________________________________________________________\n"
     ]
    }
   ],
   "source": [
    "# Initiliazing the sequential model\n",
    "model = Sequential()\n",
    "# Configuring the parameters\n",
    "model.add(LSTM(50, input_shape=(timesteps, input_dim), return_sequences=True))\n",
    "\n",
    "model.add(Dropout(0.6))\n",
    "\n",
    "#model.add(LSTM(24, return_sequences=True))\n",
    "# Adding a dropout layer\n",
    "#model.add(Dropout(0.6))\n",
    "\n",
    "#model.add(LSTM(24))\n",
    "# Adding a dropout layer\n",
    "model.add(LSTM(50))\n",
    "\n",
    "model.add(Dense(50, activation='relu'))\n",
    "#model.add(Dropout(0.6))\n",
    "# Adding a dense output layer with sigmoid activation\n",
    "model.add(Dense(n_classes, activation='softmax'))\n",
    "\n",
    "model.summary()\n",
    "\n",
    "# Compiling the model\n",
    "model.compile(loss='categorical_crossentropy',\n",
    "              optimizer='adam',\n",
    "              metrics=['accuracy'])"
   ]
  },
  {
   "cell_type": "code",
   "execution_count": 50,
   "metadata": {
    "colab": {
     "base_uri": "https://localhost:8080/",
     "height": 1178
    },
    "colab_type": "code",
    "id": "IpZg0aBTnC82",
    "outputId": "d9315443-e54f-4560-f26e-bbf541881ee7"
   },
   "outputs": [
    {
     "name": "stdout",
     "output_type": "stream",
     "text": [
      "Train on 7352 samples, validate on 2947 samples\n",
      "Epoch 1/30\n",
      "7352/7352 [==============================] - 72s 10ms/step - loss: 0.9071 - acc: 0.6130 - val_loss: 0.6927 - val_acc: 0.6946\n",
      "Epoch 2/30\n",
      "7352/7352 [==============================] - 68s 9ms/step - loss: 0.4859 - acc: 0.7926 - val_loss: 0.5751 - val_acc: 0.7957\n",
      "Epoch 3/30\n",
      "7352/7352 [==============================] - 68s 9ms/step - loss: 0.3356 - acc: 0.8896 - val_loss: 0.3452 - val_acc: 0.8775\n",
      "Epoch 4/30\n",
      "7352/7352 [==============================] - 68s 9ms/step - loss: 0.2871 - acc: 0.8989 - val_loss: 0.3946 - val_acc: 0.8636\n",
      "Epoch 5/30\n",
      "7352/7352 [==============================] - 68s 9ms/step - loss: 0.1822 - acc: 0.9365 - val_loss: 0.4466 - val_acc: 0.8636\n",
      "Epoch 6/30\n",
      "7352/7352 [==============================] - 67s 9ms/step - loss: 0.2011 - acc: 0.9294 - val_loss: 0.3249 - val_acc: 0.8901\n",
      "Epoch 7/30\n",
      "7352/7352 [==============================] - 67s 9ms/step - loss: 0.1716 - acc: 0.9344 - val_loss: 0.2948 - val_acc: 0.8873\n",
      "Epoch 8/30\n",
      "7352/7352 [==============================] - 68s 9ms/step - loss: 0.1593 - acc: 0.9384 - val_loss: 0.2852 - val_acc: 0.8982\n",
      "Epoch 9/30\n",
      "7352/7352 [==============================] - 68s 9ms/step - loss: 0.1459 - acc: 0.9430 - val_loss: 0.3868 - val_acc: 0.8863\n",
      "Epoch 10/30\n",
      "7352/7352 [==============================] - 68s 9ms/step - loss: 0.1853 - acc: 0.9302 - val_loss: 0.2953 - val_acc: 0.8935\n",
      "Epoch 11/30\n",
      "7352/7352 [==============================] - 68s 9ms/step - loss: 0.1326 - acc: 0.9461 - val_loss: 0.3094 - val_acc: 0.9009\n",
      "Epoch 12/30\n",
      "7352/7352 [==============================] - 68s 9ms/step - loss: 0.1174 - acc: 0.9535 - val_loss: 0.2808 - val_acc: 0.9148\n",
      "Epoch 13/30\n",
      "7352/7352 [==============================] - 67s 9ms/step - loss: 0.1560 - acc: 0.9392 - val_loss: 0.2873 - val_acc: 0.9046\n",
      "Epoch 14/30\n",
      "7352/7352 [==============================] - 68s 9ms/step - loss: 0.1442 - acc: 0.9418 - val_loss: 0.2448 - val_acc: 0.9077\n",
      "Epoch 15/30\n",
      "7352/7352 [==============================] - 68s 9ms/step - loss: 0.1781 - acc: 0.9297 - val_loss: 0.3365 - val_acc: 0.9013\n",
      "Epoch 16/30\n",
      "7352/7352 [==============================] - 67s 9ms/step - loss: 0.1579 - acc: 0.9346 - val_loss: 0.3181 - val_acc: 0.9053\n",
      "Epoch 17/30\n",
      "7352/7352 [==============================] - 68s 9ms/step - loss: 0.1251 - acc: 0.9411 - val_loss: 0.2864 - val_acc: 0.9097\n",
      "Epoch 18/30\n",
      "7352/7352 [==============================] - 68s 9ms/step - loss: 0.1323 - acc: 0.9459 - val_loss: 0.3096 - val_acc: 0.9080\n",
      "Epoch 19/30\n",
      "7352/7352 [==============================] - 68s 9ms/step - loss: 0.1166 - acc: 0.9508 - val_loss: 0.3583 - val_acc: 0.9080\n",
      "Epoch 20/30\n",
      "7352/7352 [==============================] - 67s 9ms/step - loss: 0.1184 - acc: 0.9512 - val_loss: 0.3624 - val_acc: 0.9111\n",
      "Epoch 21/30\n",
      "7352/7352 [==============================] - 69s 9ms/step - loss: 0.1543 - acc: 0.9418 - val_loss: 0.4119 - val_acc: 0.8914\n",
      "Epoch 22/30\n",
      "7352/7352 [==============================] - 69s 9ms/step - loss: 0.1360 - acc: 0.9472 - val_loss: 0.3722 - val_acc: 0.8884\n",
      "Epoch 23/30\n",
      "7352/7352 [==============================] - 69s 9ms/step - loss: 0.1323 - acc: 0.9471 - val_loss: 0.3051 - val_acc: 0.9108\n",
      "Epoch 24/30\n",
      "7352/7352 [==============================] - 68s 9ms/step - loss: 0.1232 - acc: 0.9527 - val_loss: 0.2921 - val_acc: 0.9182\n",
      "Epoch 25/30\n",
      "7352/7352 [==============================] - 68s 9ms/step - loss: 0.1187 - acc: 0.9524 - val_loss: 0.3590 - val_acc: 0.9087\n",
      "Epoch 26/30\n",
      "7352/7352 [==============================] - 68s 9ms/step - loss: 0.1154 - acc: 0.9543 - val_loss: 0.2936 - val_acc: 0.9186\n",
      "Epoch 27/30\n",
      "7352/7352 [==============================] - 68s 9ms/step - loss: 0.2073 - acc: 0.9248 - val_loss: 0.2432 - val_acc: 0.9203\n",
      "Epoch 28/30\n",
      "7352/7352 [==============================] - 68s 9ms/step - loss: 0.1192 - acc: 0.9524 - val_loss: 0.2608 - val_acc: 0.9155\n",
      "Epoch 29/30\n",
      "7352/7352 [==============================] - 68s 9ms/step - loss: 0.1190 - acc: 0.9517 - val_loss: 0.2679 - val_acc: 0.9104\n",
      "Epoch 30/30\n",
      "7352/7352 [==============================] - 67s 9ms/step - loss: 0.1113 - acc: 0.9540 - val_loss: 0.2848 - val_acc: 0.9148\n"
     ]
    }
   ],
   "source": [
    "# Training the model\n",
    "history=model.fit(X_train,\n",
    "          Y_train,\n",
    "          batch_size=batch_size,\n",
    "          validation_data=(X_test, Y_test),\n",
    "          epochs=30)"
   ]
  },
  {
   "cell_type": "code",
   "execution_count": 55,
   "metadata": {
    "colab": {
     "base_uri": "https://localhost:8080/",
     "height": 459
    },
    "colab_type": "code",
    "id": "JEoaLUYn4Hi0",
    "outputId": "44ff860c-0be1-47f4-b547-4c24a4457385"
   },
   "outputs": [
    {
     "data": {
      "image/png": "[encoded data removed]",
      "text/plain": [
       "<Figure size 640x480 with 1 Axes>"
      ]
     },
     "metadata": {
      "tags": []
     },
     "output_type": "display_data"
    }
   ],
   "source": [
    "%matplotlib inline\n",
    "\n",
    "import matplotlib.pyplot as plt\n",
    "import numpy as np\n",
    "import time\n",
    "plt.style.use('classic')\n",
    "# https://gist.github.com/greydanus/f6eee59eaf1d90fcb3b534a25362cea4\n",
    "# https://stackoverflow.com/a/14434334\n",
    "# this function is used to update the plots for each epoch and error\n",
    "def plt_dynamic(x, vy, ty, ax, colors=['b']):\n",
    "    ax.plot(x, vy, 'b', label=\"Validation Loss\")\n",
    "    ax.plot(x, ty, 'r', label=\"Train Loss\")\n",
    "    plt.legend()\n",
    "    plt.grid()\n",
    "    fig.canvas.draw()\n",
    "\n",
    "fig,ax = plt.subplots(1,1)\n",
    "ax.set_xlabel('epoch') ; ax.set_ylabel('Categorical Crossentropy Loss')\n",
    "\n",
    "# list of epoch numbers\n",
    "x = list(range(1,epochs+1))\n",
    "\n",
    "# print(history.history.keys())\n",
    "# dict_keys(['val_loss', 'val_acc', 'loss', 'acc'])\n",
    "# history = model_drop.fit(X_train, Y_train, batch_size=batch_size, epochs=nb_epoch, verbose=1, validation_data=(X_test, Y_test))\n",
    "\n",
    "# we will get val_loss and val_acc only when you pass the paramter validation_data\n",
    "# val_loss : validation loss\n",
    "# val_acc : validation accuracy\n",
    "\n",
    "# loss : training loss\n",
    "# acc : train accuracy\n",
    "# for each key in histrory.histrory we will have a list of length equal to number of epochs\n",
    "\n",
    "vy = history.history['val_loss']\n",
    "ty = history.history['loss']\n",
    "plt_dynamic(x, vy, ty, ax)"
   ]
  },
  {
   "cell_type": "code",
   "execution_count": 51,
   "metadata": {
    "colab": {
     "base_uri": "https://localhost:8080/",
     "height": 335
    },
    "colab_type": "code",
    "id": "RWKfgCxOnC9G",
    "outputId": "68539b7c-9308-4604-c55e-488c37691a07"
   },
   "outputs": [
    {
     "name": "stdout",
     "output_type": "stream",
     "text": [
      "Pred                LAYING  SITTING  STANDING  WALKING  WALKING_DOWNSTAIRS  \\\n",
      "True                                                                         \n",
      "LAYING                 520        0         0        0                   0   \n",
      "SITTING                  4      404        81        0                   0   \n",
      "STANDING                 0      100       430        1                   0   \n",
      "WALKING                  0        0         0      464                  27   \n",
      "WALKING_DOWNSTAIRS       0        0         0        0                 420   \n",
      "WALKING_UPSTAIRS         0        0         0        0                  13   \n",
      "\n",
      "Pred                WALKING_UPSTAIRS  \n",
      "True                                  \n",
      "LAYING                            17  \n",
      "SITTING                            2  \n",
      "STANDING                           1  \n",
      "WALKING                            5  \n",
      "WALKING_DOWNSTAIRS                 0  \n",
      "WALKING_UPSTAIRS                 458  \n"
     ]
    }
   ],
   "source": [
    "# Confusion Matrix\n",
    "print(confusion_matrix(Y_test, model.predict(X_test)))"
   ]
  },
  {
   "cell_type": "code",
   "execution_count": 52,
   "metadata": {
    "colab": {
     "base_uri": "https://localhost:8080/",
     "height": 36
    },
    "colab_type": "code",
    "id": "5aSMqMkNnC9O",
    "outputId": "d8404515-7bee-4a12-be56-ba3b4933e112"
   },
   "outputs": [
    {
     "name": "stdout",
     "output_type": "stream",
     "text": [
      "2947/2947 [==============================] - 3s 961us/step\n"
     ]
    }
   ],
   "source": [
    "score = model.evaluate(X_test, Y_test)"
   ]
  },
  {
   "cell_type": "code",
   "execution_count": 53,
   "metadata": {
    "colab": {
     "base_uri": "https://localhost:8080/",
     "height": 36
    },
    "colab_type": "code",
    "id": "MY_LQ25ZnC9a",
    "outputId": "d3079e2f-d1a7-4852-ee97-3f44aa5882bb"
   },
   "outputs": [
    {
     "data": {
      "text/plain": [
       "[0.28479463859741877, 0.9148286392941974]"
      ]
     },
     "execution_count": 53,
     "metadata": {
      "tags": []
     },
     "output_type": "execute_result"
    }
   ],
   "source": [
    "score"
   ]
  },
  {
   "cell_type": "markdown",
   "metadata": {
    "colab_type": "text",
    "id": "0kTPgpaWnC9e"
   },
   "source": [
    "- I got a accuracy of 0.9148 and a loss of 0.284 on Test data\n",
    "- although at epoch 27 I got a accuracy of 0.9203 and a loss of 0.243"
   ]
  }
 ],
 "metadata": {
  "colab": {
   "collapsed_sections": [],
   "name": "HAR_LSTM.ipynb",
   "provenance": [],
   "toc_visible": true,
   "version": "0.3.2"
  },
  "kernelspec": {
   "display_name": "Python 3",
   "language": "python",
   "name": "python3"
  },
  "language_info": {
   "codemirror_mode": {
    "name": "ipython",
    "version": 3
   },
   "file_extension": ".py",
   "mimetype": "text/x-python",
   "name": "python",
   "nbconvert_exporter": "python",
   "pygments_lexer": "ipython3",
   "version": "3.6.5"
  }
 },
 "nbformat": 4,
 "nbformat_minor": 1
}
