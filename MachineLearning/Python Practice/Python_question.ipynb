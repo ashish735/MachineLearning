{
 "cells": [
  {
   "cell_type": "raw",
   "metadata": {},
   "source": [
    "1. Write a function that inputs a number and prints the multiplication table of that number"
   ]
  },
  {
   "cell_type": "code",
   "execution_count": 1,
   "metadata": {},
   "outputs": [
    {
     "name": "stdout",
     "output_type": "stream",
     "text": [
      "Enter a number2\n",
      "2  *  1  =  2\n",
      "2  *  2  =  4\n",
      "2  *  3  =  6\n",
      "2  *  4  =  8\n",
      "2  *  5  =  10\n",
      "2  *  6  =  12\n",
      "2  *  7  =  14\n",
      "2  *  8  =  16\n",
      "2  *  9  =  18\n",
      "2  *  10  =  20\n"
     ]
    }
   ],
   "source": [
    "num=int(input(\"Enter a number\"))  #Taking input from user\n",
    "i=1\n",
    "while(i<11):                      #function for computing the table\n",
    "    print(num,' * ',i,' = ',num*i)\n",
    "    i+=1"
   ]
  },
  {
   "cell_type": "raw",
   "metadata": {},
   "source": [
    "2. Write a program to print twin primes less than 1000. If two consecutive odd      numbers are both prime then they are known as twin primes"
   ]
  },
  {
   "cell_type": "code",
   "execution_count": 2,
   "metadata": {},
   "outputs": [],
   "source": [
    "def istwinprime(a,b):\n",
    "    i=2\n",
    "    flag_a=1\n",
    "    flag_b=1\n",
    "    while(i<=a/2):\n",
    "        if(a%i==0):\n",
    "            flag_a=0\n",
    "            break;\n",
    "        i+=1\n",
    "    i=2\n",
    "    while(i<=b/2):\n",
    "        if(b%i==0):\n",
    "            flag_b=0\n",
    "            break;\n",
    "        i+=1\n",
    "    if(flag_a==1 and flag_b==1):\n",
    "        return 1\n",
    "    else:\n",
    "        return 0\n",
    "    "
   ]
  },
  {
   "cell_type": "code",
   "execution_count": 3,
   "metadata": {},
   "outputs": [],
   "source": [
    "twinPrime=[]\n",
    "for i in range(3,1000,2):\n",
    "    k=istwinprime(i,i+2)\n",
    "    if(k==1):\n",
    "        twinPrime.append([i,i+2])\n",
    "    "
   ]
  },
  {
   "cell_type": "code",
   "execution_count": 4,
   "metadata": {},
   "outputs": [
    {
     "data": {
      "text/plain": [
       "[[3, 5],\n",
       " [5, 7],\n",
       " [11, 13],\n",
       " [17, 19],\n",
       " [29, 31],\n",
       " [41, 43],\n",
       " [59, 61],\n",
       " [71, 73],\n",
       " [101, 103],\n",
       " [107, 109],\n",
       " [137, 139],\n",
       " [149, 151],\n",
       " [179, 181],\n",
       " [191, 193],\n",
       " [197, 199],\n",
       " [227, 229],\n",
       " [239, 241],\n",
       " [269, 271],\n",
       " [281, 283],\n",
       " [311, 313],\n",
       " [347, 349],\n",
       " [419, 421],\n",
       " [431, 433],\n",
       " [461, 463],\n",
       " [521, 523],\n",
       " [569, 571],\n",
       " [599, 601],\n",
       " [617, 619],\n",
       " [641, 643],\n",
       " [659, 661],\n",
       " [809, 811],\n",
       " [821, 823],\n",
       " [827, 829],\n",
       " [857, 859],\n",
       " [881, 883]]"
      ]
     },
     "execution_count": 4,
     "metadata": {},
     "output_type": "execute_result"
    }
   ],
   "source": [
    "twinPrime\n"
   ]
  },
  {
   "cell_type": "raw",
   "metadata": {},
   "source": [
    "3. Write a program to find out the prime factors of a number. Example: prime factors of 56 -2, 2, 2, 7"
   ]
  },
  {
   "cell_type": "code",
   "execution_count": 7,
   "metadata": {},
   "outputs": [],
   "source": [
    "def isPrime(a):\n",
    "    i=2\n",
    "    flag_a=1\n",
    "    while(i<=a/2):\n",
    "        if(a%i==0):\n",
    "            flag_a=0\n",
    "            break;\n",
    "        i+=1\n",
    "    if(flag_a==1):\n",
    "        return 1\n",
    "    else:\n",
    "        return 0\n",
    "\n"
   ]
  },
  {
   "cell_type": "code",
   "execution_count": 8,
   "metadata": {},
   "outputs": [
    {
     "name": "stdout",
     "output_type": "stream",
     "text": [
      "Enter a number18\n",
      "[2, 3, 3]\n"
     ]
    }
   ],
   "source": [
    "import pdb\n",
    "primeFactor=[]\n",
    "num=int(input(\"Enter a number\"))\n",
    "k=2\n",
    "while(num!=1):\n",
    "    if(num%k==0 and isPrime(k)==1):\n",
    "        primeFactor.append(k)\n",
    "        num//=k\n",
    "    else:\n",
    "        k+=1      \n",
    "print(primeFactor) "
   ]
  },
  {
   "cell_type": "raw",
   "metadata": {},
   "source": [
    "4. Write a program to implement these formulae of permutations and combinations.\n",
    "Number of permutations of n objects taken r at a time: p(n, r) = n! / (n-r)!. Number of\n",
    "combinations of n objects taken r at a time is: c(n, r) = n! / (r!*(n-r)!) = p(n,r) / r!"
   ]
  },
  {
   "cell_type": "code",
   "execution_count": 7,
   "metadata": {},
   "outputs": [
    {
     "name": "stdout",
     "output_type": "stream",
     "text": [
      "enter total number of objects8\n",
      "enter number of objects taken5\n",
      "No of permutation  6720.0\n",
      "No of combination  56.0\n"
     ]
    }
   ],
   "source": [
    "def factorial(num):\n",
    "    return 1 if num == 1 else (num * factorial(num-1))\n",
    "n=int(input(\"enter total number of objects\"))\n",
    "r=int(input(\"enter number of objects taken\"))\n",
    "nPr=factorial(n)/factorial(n-r)\n",
    "nCr=nPr/factorial(r)\n",
    "print(\"No of permutation \",nPr)\n",
    "print(\"No of combination \",nCr)"
   ]
  },
  {
   "cell_type": "raw",
   "metadata": {},
   "source": [
    "5. Write a function that converts a decimal number to binary number"
   ]
  },
  {
   "cell_type": "code",
   "execution_count": 8,
   "metadata": {},
   "outputs": [
    {
     "name": "stdout",
     "output_type": "stream",
     "text": [
      "Enter a number18\n",
      "[1, 0, 0, 1, 0]\n"
     ]
    }
   ],
   "source": [
    "num=int(input(\"Enter a number\"))\n",
    "binary=[]\n",
    "while(num!=1):\n",
    "    binary.append(num%2)\n",
    "    num//=2\n",
    "binary.append(num)\n",
    "binary.reverse()\n",
    "print(binary)\n",
    "    \n",
    "    "
   ]
  },
  {
   "cell_type": "raw",
   "metadata": {},
   "source": [
    "6. Write a function cubesum() that accepts an integer and returns the sum of the cubes of\n",
    "individual digits of that number. Use this function to make functions PrintArmstrong() and\n",
    "isArmstrong() to print Armstrong numbers and to find whether is an Armstrong number."
   ]
  },
  {
   "cell_type": "code",
   "execution_count": 24,
   "metadata": {},
   "outputs": [],
   "source": [
    "\n",
    "import math\n",
    "def cubesum(num):\n",
    "    Sum=0\n",
    "    while(num>0):\n",
    "        a=num%10\n",
    "        t=a*a*a\n",
    "        Sum=Sum+t\n",
    "        num=int(math.floor(num/10))\n",
    "    return Sum\n"
   ]
  },
  {
   "cell_type": "code",
   "execution_count": 27,
   "metadata": {},
   "outputs": [
    {
     "name": "stdout",
     "output_type": "stream",
     "text": [
      "Enter a number371\n",
      "Its a Armstrong number\n"
     ]
    }
   ],
   "source": [
    "nu=int(input('Enter a number'))\n",
    "if(nu==cubesum(nu)):\n",
    "    print(\"Its a Armstrong number\")\n",
    "else:\n",
    "    print(\"Not a armstrong number\")"
   ]
  },
  {
   "cell_type": "raw",
   "metadata": {},
   "source": [
    "7. Write a function prodDigits() that inputs a number and returns the product of digits of that\n",
    "number."
   ]
  },
  {
   "cell_type": "code",
   "execution_count": 30,
   "metadata": {},
   "outputs": [
    {
     "name": "stdout",
     "output_type": "stream",
     "text": [
      "24\n"
     ]
    }
   ],
   "source": [
    "import math\n",
    "def prodDigits(num):\n",
    "    Sum=1\n",
    "    while(num>0):\n",
    "        a=num%10;\n",
    "        Sum=Sum*a\n",
    "        num=int(math.floor(num/10))\n",
    "    return Sum\n"
   ]
  },
  {
   "cell_type": "raw",
   "metadata": {},
   "source": [
    "8. Using the function prodDigits() of previous exercise write functions MDR() and\n",
    "MPersistence() that input a number and return its multiplicative digital root and\n",
    "multiplicative persistence respectively"
   ]
  },
  {
   "cell_type": "code",
   "execution_count": 56,
   "metadata": {},
   "outputs": [
    {
     "name": "stdout",
     "output_type": "stream",
     "text": [
      "2 2\n"
     ]
    }
   ],
   "source": [
    "k=341\n",
    "i=0\n",
    "while(math.floor(k/10)!=0):      #while(k/10!=0):\n",
    "    k=prodDigits(k)\n",
    "    t+=1\n",
    "    i+=1\n",
    "print(k,i)"
   ]
  },
  {
   "cell_type": "raw",
   "metadata": {},
   "source": [
    "9. Write a function sumPdivisors() that finds the sum of proper divisors of a number. Proper\n",
    "divisors of a number are those numbers by which the number is divisible, except the\n",
    "number itself. For example proper divisors of 36 are 1, 2, 3, 4, 6, 9, 18"
   ]
  },
  {
   "cell_type": "code",
   "execution_count": 13,
   "metadata": {},
   "outputs": [
    {
     "name": "stdout",
     "output_type": "stream",
     "text": [
      "Enter a number36\n",
      "[1, 2, 3, 4, 6, 9, 12, 18]\n"
     ]
    }
   ],
   "source": [
    "import math\n",
    "def sumPdivisors(num):\n",
    "    proper_divisor=[]\n",
    "    for i in range(1,math.floor(num/2)+1):\n",
    "        if(num % i==0):\n",
    "            proper_divisor.append(i)\n",
    "    print(proper_divisor)\n",
    "inp=int(input(\"Enter a number\"))\n",
    "sumPdivisors(inp)"
   ]
  },
  {
   "cell_type": "raw",
   "metadata": {},
   "source": [
    "10. A number is called perfect if the sum of proper divisors of that number is equal to the\n",
    "number. For example 28 is perfect number, since 1+2+4+7+14=28. Write a program to\n",
    "print all the perfect numbers in a given range"
   ]
  },
  {
   "cell_type": "code",
   "execution_count": 2,
   "metadata": {},
   "outputs": [
    {
     "name": "stdout",
     "output_type": "stream",
     "text": [
      "Enter a number28\n",
      "[6, 28]\n"
     ]
    }
   ],
   "source": [
    "import math\n",
    "def sumPdivisors(num):\n",
    "    Sum=0\n",
    "    for i in range(1,math.floor(num/2)+1):\n",
    "        if(num % i==0):\n",
    "            Sum=Sum+i \n",
    "    return Sum\n",
    "inp=int(input(\"Enter a number\"))\n",
    "Perfect_numbers=[]\n",
    "for i in range(1,inp+1):\n",
    "    if(i==sumPdivisors(i)):\n",
    "        Perfect_numbers.append(i)\n",
    "print(Perfect_numbers)"
   ]
  },
  {
   "cell_type": "raw",
   "metadata": {},
   "source": [
    "11. Write a function to print pairs of amicable numbers in a range"
   ]
  },
  {
   "cell_type": "code",
   "execution_count": 4,
   "metadata": {},
   "outputs": [
    {
     "name": "stdout",
     "output_type": "stream",
     "text": [
      "Enter a number2000\n",
      "[[220, 284], [1184, 1210]]\n"
     ]
    }
   ],
   "source": [
    "inp=int(input(\"Enter a number\"))\n",
    "Amicable_numbers=[]\n",
    "for i in range(1, inp+1):\n",
    "    for j in range(i+1,inp+1):\n",
    "        if(i==sumPdivisors(j) and j==sumPdivisors(i)):\n",
    "                Amicable_numbers.append([i,j])\n",
    "print(Amicable_numbers)"
   ]
  },
  {
   "cell_type": "raw",
   "metadata": {},
   "source": [
    "12. Write a program which can filter odd numbers in a list by using filter function"
   ]
  },
  {
   "cell_type": "code",
   "execution_count": 11,
   "metadata": {},
   "outputs": [
    {
     "name": "stdout",
     "output_type": "stream",
     "text": [
      "[1, 3, 5, 7, 9]\n"
     ]
    }
   ],
   "source": [
    "def find_odd(num):\n",
    "    if(num%2!=0):\n",
    "        return num\n",
    "number_list = range(11)\n",
    "odd_num_lst = list(filter(find_odd, number_list))\n",
    "print(odd_num_lst) "
   ]
  },
  {
   "cell_type": "raw",
   "metadata": {},
   "source": [
    "13. Write a program which can map() to make a list whose elements are cube of elements in\n",
    "a given list"
   ]
  },
  {
   "cell_type": "code",
   "execution_count": 12,
   "metadata": {},
   "outputs": [
    {
     "name": "stdout",
     "output_type": "stream",
     "text": [
      "[1, 8, 27, 64]\n"
     ]
    }
   ],
   "source": [
    "numbers = [1, 2, 3, 4]\n",
    "\n",
    "def powerOfThree(num):\n",
    "    return num ** 3\n",
    "\n",
    "#using map() function\n",
    "cube = list(map(powerOfThree, numbers))\n",
    "print(cube)"
   ]
  },
  {
   "cell_type": "raw",
   "metadata": {},
   "source": [
    "14. Write a program which can map() and filter() to make a list whose elements are cube of\n",
    "even number in a given list\n"
   ]
  },
  {
   "cell_type": "code",
   "execution_count": 17,
   "metadata": {},
   "outputs": [
    {
     "name": "stdout",
     "output_type": "stream",
     "text": [
      "[8, 64, 216, 512, 1000, 1728, 2744, 4096, 5832, 8000, 10648, 13824, 17576, 21952, 27000]\n"
     ]
    }
   ],
   "source": [
    "def find_even(num):\n",
    "    if(num%2==0):\n",
    "        return num\n",
    "number_list = range(31)\n",
    "even_num_lst = list(filter(find_even, number_list))\n",
    "cube = list(map(powerOfThree, even_num_lst))\n",
    "print(cube)"
   ]
  }
 ],
 "metadata": {
  "kernelspec": {
   "display_name": "Python 3",
   "language": "python",
   "name": "python3"
  },
  "language_info": {
   "codemirror_mode": {
    "name": "ipython",
    "version": 3
   },
   "file_extension": ".py",
   "mimetype": "text/x-python",
   "name": "python",
   "nbconvert_exporter": "python",
   "pygments_lexer": "ipython3",
   "version": "3.6.5"
  }
 },
 "nbformat": 4,
 "nbformat_minor": 2
}
